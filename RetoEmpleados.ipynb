{
  "nbformat": 4,
  "nbformat_minor": 0,
  "metadata": {
    "colab": {
      "provenance": [],
      "authorship_tag": "ABX9TyM/w+rHPlpZYvCJ8eMqmGDb",
      "include_colab_link": true
    },
    "kernelspec": {
      "name": "python3",
      "display_name": "Python 3"
    },
    "language_info": {
      "name": "python"
    }
  },
  "cells": [
    {
      "cell_type": "markdown",
      "metadata": {
        "id": "view-in-github",
        "colab_type": "text"
      },
      "source": [
        "<a href=\"https://colab.research.google.com/github/DSJR741221/DSJackieR/blob/main/RetoEmpleados.ipynb\" target=\"_parent\"><img src=\"https://colab.research.google.com/assets/colab-badge.svg\" alt=\"Open In Colab\"/></a>"
      ]
    },
    {
      "cell_type": "code",
      "execution_count": 7,
      "metadata": {
        "id": "0LVkLE1mbDbs",
        "colab": {
          "base_uri": "https://localhost:8080/"
        },
        "outputId": "dd6cd81d-1974-47a7-869f-b75e62564b2f"
      },
      "outputs": [
        {
          "output_type": "stream",
          "name": "stdout",
          "text": [
            "   Age  EnvironmentSatisfaction  JobInvolvement  JobLevel  JobSatisfaction  \\\n",
            "0   50                        4               3         4                4   \n",
            "1   36                        2               3         2                2   \n",
            "2   21                        2               3         1                2   \n",
            "3   52                        2               3         3                2   \n",
            "4   33                        2               3         3                3   \n",
            "\n",
            "   MaritalStatus  MonthlyIncome  TotalWorkingYears  YearsInCurrentRole  \\\n",
            "0              0       0.864269                 32                   4   \n",
            "1              0       0.207340                  7                   2   \n",
            "2              2       0.088062                  1                   0   \n",
            "3              2       0.497574                 18                   6   \n",
            "4              1       0.664470                 15                   6   \n",
            "\n",
            "   YearsAtCompany         C0        C1  Attrition  \n",
            "0               5  20.247667 -4.207953          0  \n",
            "1               3  -6.382161 -3.688691          0  \n",
            "2               1 -21.505217  1.742580          1  \n",
            "3               8  13.822839 -5.842967          0  \n",
            "4               7  -1.428128  4.145235          1  \n"
          ]
        }
      ],
      "source": [
        "# Importa las librerías requeridas\n",
        "import pandas as pd\n",
        "import numpy as np\n",
        "from sklearn.preprocessing import MinMaxScaler, LabelEncoder\n",
        "from sklearn.decomposition import PCA\n",
        "\n",
        "#1. Lee el archivo CSV y colócalo en un DataFrame\n",
        "EmpleadosAttrition = pd.read_csv('/content/sample_data/empleadosRETO.csv')\n",
        "\n",
        "#2. Elimina las columnas irrelevantes\n",
        "EmpleadosAttrition.drop(['EmployeeCount', 'EmployeeNumber', 'Over18', 'StandardHours'], axis=1, inplace=True)\n",
        "\n",
        "#3. Crea una columna llamada Year para obtener el año de contratación a partir de 'HiringDate'\n",
        "EmpleadosAttrition['Year'] = pd.to_datetime(EmpleadosAttrition['HiringDate']).dt.year\n",
        "\n",
        "#4. Crea la columna 'YearsAtCompany' calculando los años hasta el año 2018\n",
        "EmpleadosAttrition['YearsAtCompany'] = 2018 - EmpleadosAttrition['Year']\n",
        "\n",
        "#5. Limpia 'DistanceFromHome', renombra la columna y convierte a entero\n",
        "EmpleadosAttrition['DistanceFromHome_km'] = EmpleadosAttrition['DistanceFromHome']\n",
        "EmpleadosAttrition['DistanceFromHome'] = EmpleadosAttrition['DistanceFromHome'].str.replace(' km', '').astype(int)\n",
        "\n",
        "#6. Borra las columnas ya innecesarias\n",
        "EmpleadosAttrition.drop(['Year', 'HiringDate', 'DistanceFromHome_km', 'OverTime'], axis=1, inplace=True)\n",
        "\n",
        "#7. Calcula el ingreso mensual promedio por departamento y guárdalo en SueldoPromedioDepto\n",
        "SueldoPromedioDepto = EmpleadosAttrition.groupby('Department')['MonthlyIncome'].mean().reset_index()\n",
        "SueldoPromedioDepto.rename(columns={'MonthlyIncome': 'SueldoPromedio'}, inplace=True)\n",
        "\n",
        "#8. Escala 'MonthlyIncome' a valores entre 0 y 1\n",
        "scaler = MinMaxScaler()\n",
        "EmpleadosAttrition['MonthlyIncome'] = scaler.fit_transform(EmpleadosAttrition[['MonthlyIncome']])\n",
        "\n",
        "#9. Convierte variables categóricas a numéricas\n",
        "categorical_vars = ['BusinessTravel', 'Department', 'EducationField', 'Gender', 'JobRole', 'MaritalStatus', 'Attrition']\n",
        "for var in categorical_vars:\n",
        "    le = LabelEncoder()\n",
        "    EmpleadosAttrition[var] = le.fit_transform(EmpleadosAttrition[var])\n",
        "\n",
        "#10. Calcula la correlación lineal de cada variable con respecto a 'Attrition'\n",
        "correlations = EmpleadosAttrition.corr()['Attrition'].abs()\n",
        "\n",
        "#11. Filtra las variables con correlación mayor o igual a 0.1\n",
        "selected_vars = correlations[correlations >= 0.1].index\n",
        "EmpleadosAttritionFinal = EmpleadosAttrition[selected_vars]\n",
        "\n",
        "#12. Aplica PCA al frame EmpleadosAttritionFinal para reducir la dimensionalidad\n",
        "pca = PCA(n_components=0.8)  # Explicar el 80% de la varianza\n",
        "EmpleadosAttritionPCA = pca.fit_transform(EmpleadosAttritionFinal.drop(columns=['Attrition']))\n",
        "\n",
        "#13. Agrega los componentes principales al DataFrame final\n",
        "for i in range(EmpleadosAttritionPCA.shape[1]):\n",
        "    EmpleadosAttritionFinal = EmpleadosAttritionFinal.assign(**{f'C{i}': EmpleadosAttritionPCA[:, i]})\n",
        "\n",
        "# Muestra un resumen del DataFrame final\n",
        "# print(EmpleadosAttritionFinal.head())\n",
        "\n",
        "#14.Guarda el set de datos que has formado y que tienes en EmpleadosAttritionFinal en un archivo CSV llamado EmpleadosAttritionFinal.csv.\n",
        "\n",
        "#(opcional) Mueve la columna 'Attrition' al final\n",
        "cols = [col for col in EmpleadosAttritionFinal.columns if col != 'Attrition'] + ['Attrition']\n",
        "EmpleadosAttritionFinal = EmpleadosAttritionFinal[cols]\n",
        "\n",
        "# Guarda el DataFrame en un archivo CSV\n",
        "EmpleadosAttritionFinal.to_csv('/content/sample_data/EmpleadosAttritionFinal.csv', index=False)\n",
        "\n",
        "# Muestra un resumen del DataFrame final\n",
        "print(EmpleadosAttritionFinal.head())"
      ]
    },
    {
      "cell_type": "code",
      "source": [],
      "metadata": {
        "id": "OjeiNv0riFJR"
      },
      "execution_count": null,
      "outputs": []
    },
    {
      "cell_type": "code",
      "source": [],
      "metadata": {
        "id": "-ou5Xr9Xfp3P"
      },
      "execution_count": null,
      "outputs": []
    },
    {
      "cell_type": "markdown",
      "source": [
        "# New Section"
      ],
      "metadata": {
        "id": "1w1b35k4c1AR"
      }
    }
  ]
}